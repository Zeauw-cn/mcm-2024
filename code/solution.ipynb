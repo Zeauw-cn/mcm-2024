{
 "cells": [
  {
   "cell_type": "code",
   "execution_count": 1,
   "metadata": {},
   "outputs": [],
   "source": [
    "import pandas as pd\n",
    "import numpy as np\n",
    "import matplotlib.pyplot as plt\n",
    "import sklearn as skl"
   ]
  },
  {
   "cell_type": "markdown",
   "metadata": {},
   "source": [
    "# 数据预处理\n",
    "\n",
    "将match_id重新搞成易读取的形式\n",
    "\n",
    "将时间戳化为秒\n",
    "\n",
    "网球比赛给分不均衡，可能会影响我们的计算，故将其均衡化，即0,1,2,3,4对应0,15,30,40,ad"
   ]
  },
  {
   "cell_type": "code",
   "execution_count": 14,
   "metadata": {},
   "outputs": [],
   "source": [
    "data = pd.read_csv('Wimbledon_featured_matches.csv')\n",
    "\n",
    "# 修改时间戳\n",
    "def time_trans(time):\n",
    "    hours, minutes, seconds = map(int, time.split(':'))\n",
    "    return hours*3600+minutes*60+seconds\n",
    "\n",
    "data['elapsed_time'] = data['elapsed_time'].apply(time_trans)\n",
    "\n",
    "# 修改id\n",
    "idDict = {}\n",
    "for id in data['match_id'].unique():\n",
    "    if id not in idDict:\n",
    "        idDict[id] = len(idDict)\n",
    "data['match_id'] = data['match_id'].map(idDict)\n",
    "\n",
    "scoreDict = {'0': 0, '15': 1, '30': 2, '40': 3, 'AD': 4, '0': 0, '1': 1, '2': 2, '3': 3, '4': 4, '5': 5, '6': 6, '7': 7, '8': 8, '9': 9, '10': 10}\n",
    "data['p1_score'] = data['p1_score'].map(scoreDict)\n",
    "data['p2_score'] = data['p2_score'].map(scoreDict)"
   ]
  },
  {
   "cell_type": "markdown",
   "metadata": {},
   "source": [
    "# 网球比赛的比分\n",
    "\n",
    "## 一局\n",
    "\n",
    "（1）每胜1球得1分，先胜4分者胜1局。\n",
    "（2）双方各得3分时为“平分”，平分后，净胜两分为胜1局。国际网球赛都是用英语单词Love，以及数字15、30、40分别表示0、1、3、4。\n",
    "\n",
    "## 一盘\n",
    "\n",
    "（1）一方先胜6局为胜1盘。\n",
    "（2）双方各胜5局时，一方净胜两局为胜1盘\n",
    "\n",
    "### 决胜局计分制\n",
    "\n",
    "在每盘的局数为6平时，有以下两种计分制。\n",
    "（1）长盘制：一方净胜两局为胜1盘。\n",
    "（2）短盘制（抢七）：决胜盘除外，除非赛前另有规定，一般应按以下办法执行。\n",
    "\n",
    "A.先得7分者为胜该局及该盘（若分数为6平时，一方须净两分）。\n",
    "B.首先发球员发第1分球，对方发第2、3分球，然后轮流发两分球，直到比赛 结束。\n",
    "C.第1分球在右区发，第2分球在左区发，第3分球在右区发。\n",
    "D.每6分球和决胜局结束都要交换场地。\n",
    "\n",
    "短盘制的计分\n",
    "（1）第1个球（0：0），发球员A发1分球，1分球之后换发球。\n",
    "（2）第2、3个球（报1：0或0：1，不报15：0或0：15），由B发球，B连发两分球后换发球，先从左区发球。\n",
    "（3）第4、5个球（报3：0或1：2，2：1，不报40：0或15：30， 30：15），由A发球，A连发两球后换发球后换发球，先从左区发球。\n",
    "（4）第6、7个球（报3：3或2：4，4：2或1：5，5：1或6：0，0： 6） ，由B发1分球之后交换场地，若比赛未结束，B继续发第7个球。\n",
    "（5）比分打到5：5，6：6，7：7，8：8……时，需连胜两分才能决定谁为胜方。但在记分表上则统一写为7：6。\n",
    "（6）决胜局打完之后，双方队员交换场地。\n",
    "\n",
    "五盘三胜制度"
   ]
  },
  {
   "cell_type": "markdown",
   "metadata": {},
   "source": [
    "# 题目1\n",
    "\n",
    "1. 给出整个比赛流程中哪一个更好的模型（以及好了多少），并对比赛流程进行可视化。\n",
    "\n",
    "# 思路\n",
    "\n",
    "我们使用得分概率来给出表现的预期，表现越好，则得到下一分的概率就会更高。\n",
    "\n",
    "可试图建立一个长期性的模型，在这个模型中，早期表现的影响会逐渐变小，以反映最近的表现好与坏。最终得到某一定的时间的pp分。可以通过前一局的情况得出。\n",
    "\n",
    "将初始pp设置为0，几个有效的修正是：\n",
    "\n",
    "（根据tandf_cjas2048_2982中论文内容）momentum：两次击球后分差的差值（短期表现）。\n",
    "上几次击球的得分结果：(长期表现)或许总进球概率是一个可行的值，不过为了让其更可靠，固定选择发球（或不发球）是的概率\n",
    "\n",
    "为计算概率，使用pp以及其他修正项（发球或不发球等）进行机器学习以得到最终结果。"
   ]
  },
  {
   "cell_type": "code",
   "execution_count": 39,
   "metadata": {},
   "outputs": [],
   "source": [
    "for i in data['match_id'].unique():\n",
    "    matchData = data[data['match_id'] == i]\n",
    "    pp = np.zeros(matchData.shape[0])\n",
    "    # 循环前计算首次的差值\n",
    "    for t in range(2, matchData.shape[0]):\n",
    "        # 从第三次开始才能有分数，前两次置为零即可\n",
    "        score1 = \n",
    "        score2 = "
   ]
  }
 ],
 "metadata": {
  "kernelspec": {
   "display_name": "Python 3",
   "language": "python",
   "name": "python3"
  },
  "language_info": {
   "codemirror_mode": {
    "name": "ipython",
    "version": 3
   },
   "file_extension": ".py",
   "mimetype": "text/x-python",
   "name": "python",
   "nbconvert_exporter": "python",
   "pygments_lexer": "ipython3",
   "version": "3.11.6"
  }
 },
 "nbformat": 4,
 "nbformat_minor": 2
}
