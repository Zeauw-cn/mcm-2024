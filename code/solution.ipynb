{
 "cells": [
  {
   "cell_type": "code",
   "execution_count": 1,
   "metadata": {},
   "outputs": [],
   "source": [
    "import pandas as pd\n",
    "import numpy as np\n",
    "import matplotlib.pyplot as plt\n",
    "import sklearn as skl"
   ]
  },
  {
   "cell_type": "markdown",
   "metadata": {},
   "source": [
    "# 数据预处理\n",
    "\n",
    "将match_id重新搞成易读取的形式\n",
    "\n",
    "将时间戳化为秒\n",
    "\n",
    "网球比赛给分不均衡，可能会影响我们的计算，故将其均衡化，即0,1,2,3,4对应0,15,30,40,ad"
   ]
  },
  {
   "cell_type": "code",
   "execution_count": 2,
   "metadata": {},
   "outputs": [],
   "source": [
    "data = pd.read_csv('Wimbledon_featured_matches.csv')\n",
    "\n",
    "# 修改时间戳\n",
    "def time_trans(time):\n",
    "    hours, minutes, seconds = map(int, time.split(':'))\n",
    "    return hours*3600+minutes*60+seconds\n",
    "\n",
    "data['elapsed_time'] = data['elapsed_time'].apply(time_trans)\n",
    "\n",
    "# 修改id\n",
    "idDict = {}\n",
    "for id in data['match_id'].unique():\n",
    "    if id not in idDict:\n",
    "        idDict[id] = len(idDict)\n",
    "data['match_id'] = data['match_id'].map(idDict)\n",
    "\n",
    "# 修改得分\n",
    "scoreDict = {'0': 0, '15': 1, '30': 2, '40': 3, 'AD': 4, '0': 0, '1': 1, '2': 2, '3': 3, '4': 4, '5': 5, '6': 6, '7': 7, '8': 8, '9': 9, '10': 10}\n",
    "data['p1_score'] = data['p1_score'].map(scoreDict)\n",
    "data['p2_score'] = data['p2_score'].map(scoreDict)"
   ]
  },
  {
   "cell_type": "markdown",
   "metadata": {},
   "source": [
    "# 网球比赛的比分\n",
    "\n",
    "## 一局\n",
    "\n",
    "（1）每胜1球得1分，先胜4分者胜1局。\n",
    "（2）双方各得3分时为“平分”，平分后，净胜两分为胜1局。国际网球赛都是用英语单词Love，以及数字15、30、40分别表示0、1、3、4。\n",
    "\n",
    "## 一盘\n",
    "\n",
    "（1）一方先胜6局为胜1盘。\n",
    "（2）双方各胜5局时，一方净胜两局为胜1盘\n",
    "\n",
    "### 决胜局计分制\n",
    "\n",
    "在每盘的局数为6平时，有以下两种计分制。\n",
    "（1）长盘制：一方净胜两局为胜1盘。\n",
    "（2）短盘制（抢七）：决胜盘除外，除非赛前另有规定，一般应按以下办法执行。\n",
    "\n",
    "A.先得7分者为胜该局及该盘（若分数为6平时，一方须净两分）。\n",
    "B.首先发球员发第1分球，对方发第2、3分球，然后轮流发两分球，直到比赛 结束。\n",
    "C.第1分球在右区发，第2分球在左区发，第3分球在右区发。\n",
    "D.每6分球和决胜局结束都要交换场地。\n",
    "\n",
    "短盘制的计分\n",
    "（1）第1个球（0：0），发球员A发1分球，1分球之后换发球。\n",
    "（2）第2、3个球（报1：0或0：1，不报15：0或0：15），由B发球，B连发两分球后换发球，先从左区发球。\n",
    "（3）第4、5个球（报3：0或1：2，2：1，不报40：0或15：30， 30：15），由A发球，A连发两球后换发球后换发球，先从左区发球。\n",
    "（4）第6、7个球（报3：3或2：4，4：2或1：5，5：1或6：0，0： 6） ，由B发1分球之后交换场地，若比赛未结束，B继续发第7个球。\n",
    "（5）比分打到5：5，6：6，7：7，8：8……时，需连胜两分才能决定谁为胜方。但在记分表上则统一写为7：6。\n",
    "（6）决胜局打完之后，双方队员交换场地。\n",
    "\n",
    "五盘三胜制度"
   ]
  },
  {
   "cell_type": "markdown",
   "metadata": {},
   "source": [
    "# 题目1\n",
    "\n",
    "1. 给出整个比赛流程中哪一个更好的模型（以及好了多少），并对比赛流程进行可视化。\n",
    "\n",
    "# 思路\n",
    "\n",
    "我们使用得分概率来给出表现的预期，表现越好，则得到下一分的概率就会更高。\n",
    "\n",
    "先基于分差给出一个表现上的结果。\n",
    "\n",
    "（根据tandf_cjas2048_2982中论文内容）momentum：两次击球后分差（短期表现）。使用全局量。下面给出player1的（player2为相反数）\n",
    "\n",
    "若分差呈上升趋势，则player1表现好，若下降趋势，则player2表现好"
   ]
  },
  {
   "cell_type": "code",
   "execution_count": 3,
   "metadata": {},
   "outputs": [
    {
     "data": {
      "image/png": "[encoded data removed]",
      "text/plain": [
       "<Figure size 640x480 with 2 Axes>"
      ]
     },
     "metadata": {},
     "output_type": "display_data"
    }
   ],
   "source": [
    "def xyCal(gameData, interval):\n",
    "    pointErr = np.zeros(gameData.shape[0])\n",
    "    sumOfPoint1 = 0\n",
    "    sumOfPoint2 = 0\n",
    "    j = 0\n",
    "    for j in range(0,gameData.shape[0]):\n",
    "        if gameData['point_victor'].iloc[j] == 1:\n",
    "            sumOfPoint1 += 1\n",
    "        if gameData['point_victor'].iloc[j] == 2:\n",
    "            sumOfPoint2 += 1\n",
    "        pointErr[j] = sumOfPoint1 - sumOfPoint2\n",
    "    examplingPointErr = np.zeros((int)(np.floor(gameData.shape[0]/interval)))\n",
    "    examplingTime = np.zeros((int)(np.floor(gameData.shape[0]/interval)))\n",
    "    for counter in range(0,(int)(np.floor(gameData.shape[0]/interval))):\n",
    "        examplingPointErr[counter] = pointErr[counter*interval]\n",
    "        examplingTime[counter] = gameData['elapsed_time'].iloc[counter*interval]\n",
    "    xyData = pd.DataFrame()\n",
    "    exyData = pd.DataFrame()\n",
    "    xyData['time'] = gameData['elapsed_time']\n",
    "    xyData['pointErr'] = pointErr\n",
    "    exyData['pointErr'] = examplingPointErr\n",
    "    exyData['time'] = examplingTime\n",
    "    return xyData, exyData\n",
    "def drawFig(gameData, interval):\n",
    "    xyData, exyData = xyCal(gameData, interval)\n",
    "    diff = np.diff(xyData['time'])\n",
    "    breakPoints = [0]\n",
    "    if np.max(diff) > 3600:\n",
    "        breakPoints = np.where(diff > 3600)[0]\n",
    "    if breakPoints[0] != 0:\n",
    "        fig, (ax1, ax2) = plt.subplots(1, 2, sharey=True)\n",
    "        ax1.set_xlim(xyData['time'].min(), xyData['time'].iloc[breakPoints[0]])\n",
    "        ax2.set_xlim(xyData['time'].iloc[breakPoints[0]+1],xyData['time'].max())\n",
    "        ax1.spines.right.set_visible(False)\n",
    "        ax2.spines.left.set_visible(False)\n",
    "        ax2.tick_params(left=False)\n",
    "        ax1x, ax2x = xyData['time'].iloc[0:breakPoints[0]], xyData['time'].iloc[breakPoints[0]+1:]\n",
    "        ax1y, ax2y = xyData['pointErr'].iloc[0:breakPoints[0]], xyData['pointErr'].iloc[breakPoints[0]+1:]\n",
    "        diff = np.diff(exyData['time'])\n",
    "        breakPoints = np.where(diff > 3600)[0]\n",
    "        ax1ex, ax2ex = exyData['time'].iloc[0:breakPoints[0]], exyData['time'].iloc[breakPoints[0]+1:]\n",
    "        ax1ey, ax2ey = exyData['pointErr'].iloc[0:breakPoints[0]], exyData['pointErr'].iloc[breakPoints[0]+1:]\n",
    "        ax1.plot(ax1ex, ax1ey)\n",
    "        ax2.plot(ax2ex, ax2ey)\n",
    "        ax1.scatter(ax1x, ax1y, s=2,marker='.',c='grey')\n",
    "        ax2.scatter(ax2x, ax2y, s=2,marker='.',c='grey')\n",
    "        ax1.axhline(0,color='grey',linestyle='--',linewidth=0.5)\n",
    "        ax2.axhline(0,color='grey',linestyle='--',linewidth=0.5)\n",
    "    else:\n",
    "        fig0, ax = plt.subplots()\n",
    "        ax.scatter(xyData['time'],xyData['pointErr'],s=2,marker='.',c='grey')\n",
    "        ax.plot(exyData['time'],exyData['pointErr'])\n",
    "        ax.axhline(0,color='grey',linestyle='--',linewidth=0.5)\n",
    "gameData = data[data['match_id'] == 2]\n",
    "drawFig(gameData,5)"
   ]
  },
  {
   "cell_type": "markdown",
   "metadata": {},
   "source": [
    "为计算概率，需要一些特征。\n",
    "上几次击球的得分结果：(长期表现)或许总进球概率是一个可行的值，不过为了让其更可靠，固定选择发球（或不发球）是的概率"
   ]
  },
  {
   "cell_type": "code",
   "execution_count": 4,
   "metadata": {},
   "outputs": [],
   "source": [
    "# 特征工程"
   ]
  }
 ],
 "metadata": {
  "kernelspec": {
   "display_name": "Python 3",
   "language": "python",
   "name": "python3"
  },
  "language_info": {
   "codemirror_mode": {
    "name": "ipython",
    "version": 3
   },
   "file_extension": ".py",
   "mimetype": "text/x-python",
   "name": "python",
   "nbconvert_exporter": "python",
   "pygments_lexer": "ipython3",
   "version": "3.11.6"
  }
 },
 "nbformat": 4,
 "nbformat_minor": 2
}
